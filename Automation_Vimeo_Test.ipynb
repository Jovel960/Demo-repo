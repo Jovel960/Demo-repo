{
 "cells": [
  {
   "cell_type": "code",
   "execution_count": null,
   "id": "07caeb9d",
   "metadata": {},
   "outputs": [],
   "source": [
    "import vimeo\n",
    "import requests\n",
    "import json"
   ]
  },
  {
   "cell_type": "code",
   "execution_count": null,
   "id": "51f7d6f5",
   "metadata": {},
   "outputs": [],
   "source": [
    "#Task No.1\n",
    "Tester = vimeo.VimeoClient(\n",
    "token='your_token',\n",
    "key='your_key',\n",
    "secret=('your secret')\n",
    "response = Tester.get('https://api.vimeo.com/videos/your_video_id')\n",
    "response.headers['content-type']"
   ]
  },
  {
   "cell_type": "code",
   "execution_count": null,
   "id": "7fd60fc8",
   "metadata": {},
   "outputs": [],
   "source": [
    "#Task No.2\n",
    "Tester.post(\n",
    "    'https://api.vimeo.com/videos/video_id/comments',\n",
    "    data={\n",
    "        \"text\": \"Your comment\"\n",
    "    }\n",
    ")"
   ]
  },
  {
   "cell_type": "code",
   "execution_count": null,
   "id": "3aa7ee26",
   "metadata": {},
   "outputs": [],
   "source": [
    "#Task No.3\n",
    "res_j = response.content.decode(\"utf-8\") #To get the object more clear and \n",
    "res_d = json.loads(res_j) #Now load our JSON object into dict object to get directly to the specific data more easily\n",
    "print(\"Likes:\",res_d[\"metadata\"][\"connections\"][\"likes\"][\"total\"])"
   ]
  },
  {
   "cell_type": "code",
   "execution_count": null,
   "id": "c0928d13",
   "metadata": {},
   "outputs": [],
   "source": [
    "#Task No.4\n",
    "print(\"Views:\" ,res_d[\"stats\"][\"plays\"])"
   ]
  },
  {
   "cell_type": "code",
   "execution_count": null,
   "id": "170fcf18",
   "metadata": {},
   "outputs": [],
   "source": []
  },
  {
   "cell_type": "code",
   "execution_count": null,
   "id": "21f55dae",
   "metadata": {},
   "outputs": [],
   "source": []
  }
 ],
 "metadata": {
  "kernelspec": {
   "display_name": "Python 3 (ipykernel)",
   "language": "python",
   "name": "python3"
  },
  "language_info": {
   "codemirror_mode": {
    "name": "ipython",
    "version": 3
   },
   "file_extension": ".py",
   "mimetype": "text/x-python",
   "name": "python",
   "nbconvert_exporter": "python",
   "pygments_lexer": "ipython3",
   "version": "3.9.7"
  }
 },
 "nbformat": 4,
 "nbformat_minor": 5
}
